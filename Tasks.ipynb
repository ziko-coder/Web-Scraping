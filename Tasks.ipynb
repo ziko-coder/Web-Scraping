{
 "cells": [
  {
   "cell_type": "markdown",
   "id": "4393244c",
   "metadata": {},
   "source": [
    "# Get Info Box From One Wikipedia Page"
   ]
  },
  {
   "cell_type": "code",
   "execution_count": 1,
   "id": "8104792d",
   "metadata": {},
   "outputs": [],
   "source": [
    "from bs4 import BeautifulSoup as bs\n",
    "import requests"
   ]
  },
  {
   "cell_type": "code",
   "execution_count": 2,
   "id": "0c82e8b8",
   "metadata": {},
   "outputs": [],
   "source": [
    "r = requests.get(\"https://en.wikipedia.org/wiki/Toy_Story_3\")\n",
    "\n",
    "# Convert to a beautiful soup object\n",
    "soup = bs(r.content)\n",
    "\n",
    "# Print out the HTML\n",
    "contents = soup.prettify()\n",
    "#print(contents)"
   ]
  },
  {
   "cell_type": "code",
   "execution_count": 3,
   "id": "f07ee05a",
   "metadata": {},
   "outputs": [
    {
     "data": {
      "text/plain": [
       "[]"
      ]
     },
     "execution_count": 3,
     "metadata": {},
     "output_type": "execute_result"
    }
   ],
   "source": [
    "movies = soup.select(\".wikitable.sortable i\")\n",
    "movies[0:10]"
   ]
  },
  {
   "cell_type": "code",
   "execution_count": 4,
   "id": "02808b1a",
   "metadata": {},
   "outputs": [],
   "source": [
    "def get_content_value(row_data):\n",
    "    if row_data.find(\"li\"):\n",
    "        return [li.get_text(\" \", strip=True).replace(\"\\xa0\", \" \") for li in row_data.find_all(\"li\")]\n",
    "    elif row_data.find(\"br\"):\n",
    "        return [text for text in row_data.stripped_strings]\n",
    "    else:\n",
    "        return row_data.get_text(\" \", strip=True).replace(\"\\xa0\", \" \")\n",
    "\n",
    "def clean_tags(soup):\n",
    "    for tag in soup.find_all([\"sup\", \"span\"]):\n",
    "        tag.decompose()\n",
    "        \n",
    "def get_info_box(url):\n",
    "\n",
    "    r = requests.get(url)\n",
    "    soup = bs(r.content)\n",
    "    info_box = soup.find(class_=\"infobox vevent\")\n",
    "    info_rows = info_box.find_all(\"tr\")\n",
    "    \n",
    "    clean_tags(soup)\n",
    "\n",
    "    movie_info = {}\n",
    "    for index, row in enumerate(info_rows):\n",
    "        if index == 0:\n",
    "            movie_info['title'] = row.find(\"th\").get_text(\" \", strip=True)\n",
    "        else:\n",
    "            header = row.find('th')\n",
    "            if header:\n",
    "                content_key = row.find(\"th\").get_text(\" \", strip=True)\n",
    "                content_value = get_content_value(row.find(\"td\"))\n",
    "                movie_info[content_key] = content_value\n",
    "            \n",
    "    return movie_info  "
   ]
  },
  {
   "cell_type": "code",
   "execution_count": 5,
   "id": "17e6b109",
   "metadata": {},
   "outputs": [
    {
     "data": {
      "text/plain": [
       "{'title': 'One Little Indian',\n",
       " 'Directed by': 'Bernard McEveety',\n",
       " 'Written by': 'Harry Spalding',\n",
       " 'Produced by': 'Winston Hibler',\n",
       " 'Starring': ['James Garner',\n",
       "  'Vera Miles',\n",
       "  'Pat Hingle',\n",
       "  \"Clay O'Brien\",\n",
       "  'John Doucette',\n",
       "  'Morgan Woodward',\n",
       "  'Andrew Prine'],\n",
       " 'Cinematography': 'Charles F. Wheeler',\n",
       " 'Edited by': 'Robert Stafford',\n",
       " 'Music by': 'Jerry Goldsmith',\n",
       " 'Production company': 'Walt Disney Productions',\n",
       " 'Distributed by': 'Buena Vista Distribution',\n",
       " 'Release date': ['June 20, 1973'],\n",
       " 'Running time': '90 Minutes',\n",
       " 'Country': 'United States',\n",
       " 'Language': 'English',\n",
       " 'Box office': '$2 million'}"
      ]
     },
     "execution_count": 5,
     "metadata": {},
     "output_type": "execute_result"
    }
   ],
   "source": [
    "get_info_box(\"https://en.wikipedia.org/wiki/One_Little_Indian_(film)\")"
   ]
  },
  {
   "cell_type": "markdown",
   "id": "cba7bea5",
   "metadata": {},
   "source": [
    "# Get Info From All Pages "
   ]
  },
  {
   "cell_type": "code",
   "execution_count": 6,
   "id": "edc99efc",
   "metadata": {},
   "outputs": [
    {
     "name": "stdout",
     "output_type": "stream",
     "text": [
      "0\n",
      "10\n",
      "20\n",
      "30\n",
      "40\n",
      "Zorro the Avenger\n",
      "'NoneType' object has no attribute 'find'\n",
      "The Sign of Zorro\n",
      "'NoneType' object has no attribute 'find'\n",
      "50\n",
      "60\n",
      "70\n",
      "80\n",
      "90\n",
      "100\n",
      "110\n",
      "120\n",
      "130\n",
      "140\n",
      "150\n",
      "160\n",
      "170\n",
      "180\n",
      "190\n",
      "200\n",
      "210\n",
      "220\n",
      "Mighty Ducks the Movie: The First Face-Off\n",
      "'NoneType' object has no attribute 'find'\n",
      "230\n",
      "240\n",
      "250\n",
      "260\n",
      "270\n",
      "Spirited Away\n",
      "'NoneType' object has no attribute 'find'\n",
      "280\n",
      "290\n",
      "300\n",
      "310\n",
      "Howl's Moving Castle\n",
      "'NoneType' object has no attribute 'find'\n",
      "320\n",
      "330\n",
      "340\n",
      "350\n",
      "360\n",
      "370\n",
      "Ponyo\n",
      "'NoneType' object has no attribute 'find'\n",
      "380\n",
      "Tales from Earthsea\n",
      "'NoneType' object has no attribute 'find'\n",
      "390\n",
      "400\n",
      "The Secret World of Arrietty\n",
      "'NoneType' object has no attribute 'find'\n",
      "410\n",
      "420\n",
      "430\n",
      "440\n",
      "450\n",
      "460\n",
      "470\n",
      "480\n",
      "The Beatles: Get Back – The Rooftop Concert\n",
      "'NoneType' object has no attribute 'find'\n",
      "490\n",
      "500\n",
      "Wish\n",
      "'NoneType' object has no attribute 'find_all'\n",
      "Elio\n",
      "'NoneType' object has no attribute 'find_all'\n",
      "510\n",
      "61\n",
      "'NoneType' object has no attribute 'find_all'\n",
      "All Night Long\n",
      "'NoneType' object has no attribute 'find'\n",
      "Big Thunder Mountain Railroad\n",
      "'NoneType' object has no attribute 'find_all'\n",
      "520\n",
      "Keeper of the Lost Cities\n",
      "'NoneType' object has no attribute 'find_all'\n",
      "Muppet Man\n",
      "'NoneType' object has no attribute 'find_all'\n",
      "One Thousand and One Nights\n",
      "'NoneType' object has no attribute 'find_all'\n",
      "530\n",
      "Shrunk\n",
      "'NoneType' object has no attribute 'find'\n",
      "Sister Act 3\n",
      "'NoneType' object has no attribute 'find'\n",
      "Space Mountain\n",
      "'NoneType' object has no attribute 'find_all'\n",
      "The Graveyard Book\n",
      "'NoneType' object has no attribute 'find_all'\n",
      "540\n",
      "The Thief\n",
      "'NoneType' object has no attribute 'find_all'\n",
      "Tom Sawyer\n",
      "'NoneType' object has no attribute 'find_all'\n",
      "Tower of Terror\n",
      "'NoneType' object has no attribute 'find_all'\n",
      "Tron: Ares\n",
      "'NoneType' object has no attribute 'find'\n",
      "FC Barcelona\n",
      "'NoneType' object has no attribute 'find_all'\n",
      "Figment\n",
      "'NoneType' object has no attribute 'find_all'\n",
      "550\n"
     ]
    }
   ],
   "source": [
    "r = requests.get(\"https://en.wikipedia.org/wiki/List_of_Walt_Disney_Pictures_films\")\n",
    "soup = bs(r.content)\n",
    "movies = soup.select(\".wikitable.sortable i a\")\n",
    "\n",
    "base_path = \"https://en.wikipedia.org/\"\n",
    "\n",
    "movie_info_list = []\n",
    "for index, movie in enumerate(movies):\n",
    "    if index % 10 == 0:\n",
    "        print(index)\n",
    "    try:\n",
    "        relative_path = movie['href']\n",
    "        full_path = base_path + relative_path\n",
    "        title = movie['title']\n",
    "        \n",
    "        movie_info_list.append(get_info_box(full_path))\n",
    "        \n",
    "    except Exception as e:\n",
    "        print(movie.get_text())\n",
    "        print(e)"
   ]
  },
  {
   "cell_type": "markdown",
   "id": "4e02079b",
   "metadata": {},
   "source": [
    "## Store Dict In JSON Format"
   ]
  },
  {
   "cell_type": "code",
   "execution_count": 2,
   "id": "c877cda2",
   "metadata": {},
   "outputs": [],
   "source": [
    "import json\n",
    "\n",
    "def save_data(title, data):\n",
    "    with open(title, 'w', encoding='utf-8') as f:\n",
    "        json.dump(data, f, ensure_ascii=False, indent=2)"
   ]
  },
  {
   "cell_type": "code",
   "execution_count": 3,
   "id": "f43a365c",
   "metadata": {},
   "outputs": [],
   "source": [
    "import json\n",
    "\n",
    "def load_data(title):\n",
    "    with open(title, encoding=\"utf-8\") as f:\n",
    "        return json.load(f)"
   ]
  },
  {
   "cell_type": "code",
   "execution_count": 4,
   "id": "a7867489",
   "metadata": {},
   "outputs": [
    {
     "ename": "NameError",
     "evalue": "name 'movie_info_list' is not defined",
     "output_type": "error",
     "traceback": [
      "\u001b[1;31m---------------------------------------------------------------------------\u001b[0m",
      "\u001b[1;31mNameError\u001b[0m                                 Traceback (most recent call last)",
      "\u001b[1;32m~\\AppData\\Local\\Temp\\ipykernel_10896\\2454042170.py\u001b[0m in \u001b[0;36m<module>\u001b[1;34m\u001b[0m\n\u001b[1;32m----> 1\u001b[1;33m \u001b[0msave_data\u001b[0m\u001b[1;33m(\u001b[0m\u001b[1;34m\"disney_data_cleaned.json\"\u001b[0m\u001b[1;33m,\u001b[0m \u001b[0mmovie_info_list\u001b[0m\u001b[1;33m)\u001b[0m\u001b[1;33m\u001b[0m\u001b[1;33m\u001b[0m\u001b[0m\n\u001b[0m",
      "\u001b[1;31mNameError\u001b[0m: name 'movie_info_list' is not defined"
     ]
    }
   ],
   "source": [
    "save_data(\"disney_data_cleaned.json\", movie_info_list)"
   ]
  },
  {
   "cell_type": "markdown",
   "id": "54c7b4d0",
   "metadata": {},
   "source": [
    "### Clean Data"
   ]
  },
  {
   "cell_type": "code",
   "execution_count": 5,
   "id": "289d2887",
   "metadata": {},
   "outputs": [],
   "source": [
    "movie_info_list = load_data(\"disney_data_cleaned.json\")"
   ]
  },
  {
   "cell_type": "markdown",
   "id": "422235c2",
   "metadata": {},
   "source": [
    "## Convert Running Time Into Integer"
   ]
  },
  {
   "cell_type": "code",
   "execution_count": 7,
   "id": "3a6686c5",
   "metadata": {},
   "outputs": [
    {
     "name": "stdout",
     "output_type": "stream",
     "text": [
      "['83 minutes', '88 minutes', '126 minutes', '74 minutes', '64 minutes', '70 minutes', '42 minutes', '65 min', '71 minutes', '75 minutes', '94 minutes', '73 minutes', '75 minutes', '82 minutes', '68 minutes', '74 minutes', '96 minutes', '75 minutes', '84 minutes', '77 minutes', '92 minutes', '69 minutes', '81 minutes', ['60 minutes (VHS and Wild Discovery version)', '71 minutes (original)'], '127 minutes', '93 minutes', '76 minutes', '75 minutes', '73 minutes', '85 minutes', '81 minutes', '70 minutes', '90 min.', '80 minutes', '75 minutes', '84 minutes', '83 minutes', '72 minutes', '97 minutes', '75 minutes', '104 minutes', '93 minutes', '105 minutes', '95 minutes', '97 minutes', '134 minutes', '69 minutes', '92 minutes', '126 minutes', '79 minutes', '97 minutes', '128 minutes', '73 minutes', '91 minutes', '105 minutes', '98 minutes', '130 minutes', '89 minutes', '93 minutes', '67 minutes', '98 minutes', '100 minutes', '118 minutes', '103 minutes', '110 minutes', '80 min.', '79 minutes', '91 minutes', '91 minutes', '97 minutes', '118 minutes', '139 minutes', '131 mins.', '92 minutes', '87 minutes', '116 minutes', '93 minutes', '110 min.', '110 minutes', '131 minutes', '101 minutes', '108 minutes', '84 minutes', '78 minutes', '75 minutes', ['164 minutes', '(', 'Los Angeles', 'premiere)', '144 minutes', '(', 'New York City', 'premiere)', '118 minutes', '(General release)', '172 minutes', '(', \"Director's cut\", ')'], '106 minutes', '110 minutes', '99 minutes', '113 mins.', '108 minutes', '102 minutes', '85 minutes', '91 minutes', '93 minutes', '100 minutes', '100 minutes', '79 minutes', '96 minutes', '113 minutes', '89 minutes', ['117 minutes (1971 original version)', '139 minutes (1996 reconstruction version)'], '92 minutes', '88 minutes', '92 minutes', '87 minutes', '93 minutes', '93 minutes', '93 minutes', '90 Minutes', '83 minutes', '96 minutes', '88 minutes', '89 minutes', '91 minutes', '93 minutes', '92 minutes', '97 minutes', '100 minutes', '100 minutes', '89 minutes', 'N/A', '91 minutes', '112 minutes', '115 minutes', '95 minutes', '91 minutes', '97 minutes', '104 minutes', '74 minutes', '48 minutes', '77 minutes', '104 minutes', '128 minutes', '101 minutes', '94 minutes', '104 minutes', '90 minutes', '100 minutes', '88 minutes', '93 minutes', '98 minutes', '112 minutes', '84 minutes', '97 minutes', '97 minutes', '114 minutes', '96 minutes', '97 minutes', '109 minutes', '83 minutes', '90 minutes', '107 minutes', '96 minutes', '103 minutes', '91 min', '95 minutes', '105 minutes', '113 minutes', '80 minutes', '101 minutes', '90 minutes', '74 minutes', '90 minutes', '89 minutes', '110 minutes', '74 minutes', '93 minutes', '84 minutes', '83 minutes', '74 minutes', '77 minutes', '107 minutes', '93 minutes', '88 minutes', '108 minutes', '84 minutes', '121 minutes', '89 minutes', '104 minutes', '90 minutes', '86 minutes', '84 minutes', '108 minutes', '107 minutes', '96 minutes', '98 minutes', '105 minutes', '108 minutes', '94 minutes', '106 minutes', '102 minutes', '69 minutes', '88 minutes', '102 minutes', '102 minutes', '97 minutes', '111 minutes', '92 minutes', '100 minutes', '96 minutes', '96 minutes', '78 minutes', '81 minutes', '108 minutes', '89 minutes', '99 minutes', '89 minutes', '81 minutes', '92 minutes', '100 minutes', '89 minutes', '79 minutes', '91 minutes', '81 minutes', '101 minutes', '104 minutes', '103 minutes', '86 minutes', '106 minutes', '74 minutes', '93 minutes', '92 minutes', '98 minutes', '76 minutes', '95 minutes', '72 minutes', '93 minutes', '87 minutes', ['70 minutes', '(original release)', '92 minutes', '(special edition)'], '93 minutes', '87 minutes', '128 minutes', '72 minutes', '77 minutes', '82 minutes', '86 minutes', '95 minutes', '114 minutes', '93 minutes', '83 minutes', '83 minutes', '88 minutes', '78 minutes', '70 minutes', '112 minutes', '66 minutes', '92 minutes', '75 minutes', '78 minutes', '79 minutes', '72 minutes', '82 minutes', '104 minutes', '70 minutes', '75 minutes', '113 minutes', '100 minutes', '78 minutes', '83 minutes', '69 minutes', '96 minutes', '115 minutes', '86 minutes', '92 minutes', '65 minutes', '95 minutes', '73 minutes', '73 minutes', '68 minutes', '128 minutes', '85 minutes', '75 minutes', '88 minutes', '68 minutes', '96 minutes', '104 minutes', '95 minutes', '74 minutes', '72 minutes', '88 minutes', '75 minutes', '61 minutes', '117 minutes', '94 minutes', '80 minutes', '100 minutes', '143 minutes', '96 minutes', '64 minutes', '87 minutes', '85 minutes', '87 minutes', '50 minutes', '74 minutes', '136 minutes', '78 minutes', '85 minutes', '65 minutes', '76 minutes', '40 minutes', '120 minutes', '84 minutes', '113 minutes', '67 minutes', '115 minutes', '67 minutes', '131 minutes', '100 minutes', '79 minutes', '68 minutes', '95 minutes', '97 minutes', '72 minutes', '100 minutes', '100 minutes', '76 minutes', '68 minutes', '67 minutes', '120 minutes', '81 minutes', '143 minutes', '72 minutes', '118 minutes', '40 minutes', '72 minutes', '120 minutes', '99 minutes', '88 minutes', '117 minutes', '72 minutes', '150 minutes', '104 minutes', '73 minutes', '76 minutes', '92 minutes', '69 minutes', '70 minutes', '95 minutes', '94 minutes', '169 minutes', '111 minutes', '85 minutes', '82 minutes', '87 minutes', '110 minutes', '107 minutes', '124 minutes', '74 minutes', '82 minutes', '150 minutes', '97 minutes', '77 minutes', '91 minutes', '100 minutes', '112 minutes', '93 minutes', '78 minutes', '96 minutes', '99 minutes', ['76 minutes', '85 minutes'], '98 minutes', '97 minutes', '101 minutes', '96 minutes', 'N/A', '90 minutes', '107 minutes', '82 minutes', '101 minutes', '96 minutes', '88 minutes', '97 minutes', '108 minutes', '85 minutes', '116 minutes', '103 minutes', '109 minutes', '79 minutes', '123 minutes', '108 minutes', '100 minutes', '125 minutes', 'N/A', '84 minutes', '90 minutes', '92 minutes', '109 minutes', '104 minutes', '137 minutes', '106 minutes', '63 minutes', '88 minutes', '103 minutes', '93 minutes', '132 minutes', '96 minutes', '93 minutes', '100 minutes', '89 minutes', '87 minutes', '75 minutes', '101 minutes', '130 minutes', '104 minutes', '149 minutes', '92 minutes', '81 minutes', '102 minutes', '125 minutes', ['107 minutes', '125 minutes (Extended Cut)'], '78 minutes', '124 minutes', '97 minutes', '84 minutes', '127 minutes', '81 minutes', '102 minutes', '124 minutes', '129 minutes', '76 minutes', '106 minutes', '130 minutes', '95 minutes', '154 minutes', '94 minutes', '117 minutes', '108 minutes', '106 minutes', '99 minutes', '113 minutes', '97 minutes', '118 minutes', '103 minutes', '124 minutes', '107 minutes', '161 minutes', '129 minutes', '129 minutes', '102 minutes', '162 minutes', '114 minutes', '105 minutes', '109 minutes', '118 minutes', '104 minutes', '99 minutes', '112 minutes', '131 minutes', '112 minutes', '128 minutes', '100 minutes', '118 minutes', '119 minutes', '104 minutes', '100 minutes', '103 minutes', '114 minutes', '99 minutes', '102 minutes', '107 minutes', '95 minutes', '160 minutes', '85 minutes', '100 minutes', '95 minutes', '115 minutes', '110 minutes', '122 minutes', '101 minutes', '121 minutes', '95 minutes', '107 minutes', '134 minutes', '95 minutes', '128 minutes', '102 minutes', '58 minutes', '108 minutes', '82 minutes', '100 minutes', '107 minutes', '91 minutes', '97 minutes', '105 minutes', '105 minutes', '111 minutes', '105 minutes', '103 minutes', '118 minutes', '102 minutes', '75 minutes', '77 minutes', '108 minutes', 'N/A', 'N/A', 'N/A', 'N/A', 'N/A', '95 minutes', '118 minutes', 'N/A', 'N/A', '81 minutes', '70 minutes', 'N/A', '90 minutes', '93 minutes', '91 minutes', '78 minutes', '85 minutes', '124 minutes', 'N/A', '83 minutes', '107 minutes', 'N/A', '79 minutes', '508 minutes (5 films)', '79 minutes', '102 minutes', ['468 minutes'], '108 minutes', '81 minutes', '102 minutes', '108 minutes']\n"
     ]
    }
   ],
   "source": [
    "print([movie.get('Running time', 'N/A') for movie in movie_info_list])"
   ]
  },
  {
   "cell_type": "code",
   "execution_count": 14,
   "id": "2aa58865",
   "metadata": {},
   "outputs": [],
   "source": [
    "# \"85 minutes\"\n",
    "def minutes_to_integer(running_time):\n",
    "    if running_time == \"N/A\":\n",
    "        return None\n",
    "    \n",
    "    if isinstance(running_time, list):\n",
    "        return int(running_time[0].split(\" \")[0])\n",
    "    else: # is a string\n",
    "        return int(running_time.split(\" \")[0])\n",
    "\n",
    "for movie in movie_info_list:\n",
    "    movie['Running time (int)'] = minutes_to_integer(movie.get('Running time', \"N/A\"))"
   ]
  },
  {
   "cell_type": "code",
   "execution_count": 8,
   "id": "48e4915f",
   "metadata": {},
   "outputs": [
    {
     "name": "stdout",
     "output_type": "stream",
     "text": [
      "['N/A', 'N/A', 'N/A', 'N/A', 'N/A', 'N/A', 'N/A', 'N/A', 'N/A', 'N/A', 'N/A', 'N/A', 'N/A', 'N/A', 'N/A', 'N/A', 'N/A', 'N/A', 'N/A', 'N/A', 'N/A', 'N/A', 'N/A', 'N/A', 'N/A', 'N/A', 'N/A', 'N/A', 'N/A', 'N/A', 'N/A', 'N/A', 'N/A', 'N/A', 'N/A', 'N/A', 'N/A', 'N/A', 'N/A', 'N/A', 'N/A', 'N/A', 'N/A', 'N/A', 'N/A', 'N/A', 'N/A', 'N/A', 'N/A', 'N/A', 'N/A', 'N/A', 'N/A', 'N/A', 'N/A', 'N/A', 'N/A', 'N/A', 'N/A', 'N/A', 'N/A', 'N/A', 'N/A', 'N/A', 'N/A', 'N/A', 'N/A', 'N/A', 'N/A', 'N/A', 'N/A', 'N/A', 'N/A', 'N/A', 'N/A', 'N/A', 'N/A', 'N/A', 'N/A', 'N/A', 'N/A', 'N/A', 'N/A', 'N/A', 'N/A', 'N/A', 'N/A', 'N/A', 'N/A', 'N/A', 'N/A', 'N/A', 'N/A', 'N/A', 'N/A', 'N/A', 'N/A', 'N/A', 'N/A', 'N/A', 'N/A', 'N/A', 'N/A', 'N/A', 'N/A', 'N/A', 'N/A', 'N/A', 'N/A', 'N/A', 'N/A', 'N/A', 'N/A', 'N/A', 'N/A', 'N/A', 'N/A', 'N/A', 'N/A', 'N/A', 'N/A', 'N/A', 'N/A', 'N/A', 'N/A', 'N/A', 'N/A', 'N/A', 'N/A', 'N/A', 'N/A', 'N/A', 'N/A', 'N/A', 'N/A', 'N/A', 'N/A', 'N/A', 'N/A', 'N/A', 'N/A', 'N/A', 'N/A', 'N/A', 'N/A', 'N/A', 'N/A', 'N/A', 'N/A', 'N/A', 'N/A', 'N/A', 'N/A', 'N/A', 'N/A', 'N/A', 'N/A', 'N/A', 'N/A', 'N/A', 'N/A', 'N/A', 'N/A', 'N/A', 'N/A', 'N/A', 'N/A', 'N/A', 'N/A', 'N/A', 'N/A', 'N/A', 'N/A', 'N/A', 'N/A', 'N/A', 'N/A', 'N/A', 'N/A', 'N/A', 'N/A', 'N/A', 'N/A', 'N/A', 'N/A', 'N/A', 'N/A', 'N/A', 'N/A', 'N/A', 'N/A', 'N/A', 'N/A', 'N/A', 'N/A', 'N/A', 'N/A', 'N/A', 'N/A', 'N/A', 'N/A', 'N/A', 'N/A', 'N/A', 'N/A', 'N/A', 'N/A', 'N/A', 'N/A', 'N/A', 'N/A', 'N/A', 'N/A', 'N/A', 'N/A', 'N/A', 'N/A', 'N/A', 'N/A', 'N/A', 'N/A', 'N/A', 'N/A', 'N/A', 'N/A', 'N/A', 'N/A', 'N/A', 'N/A', 'N/A', 'N/A', 'N/A', 'N/A', 'N/A', 'N/A', 'N/A', 'N/A', 'N/A', 'N/A', 'N/A', 'N/A', 'N/A', 'N/A', 'N/A', 'N/A', 'N/A', 'N/A', 'N/A', 'N/A', 'N/A', 'N/A', 'N/A', 'N/A', 'N/A', 'N/A', 'N/A', 'N/A', 'N/A', 'N/A', 'N/A', 'N/A', 'N/A', 'N/A', 'N/A', 'N/A', 'N/A', 'N/A', 'N/A', 'N/A', 'N/A', 'N/A', 'N/A', 'N/A', 'N/A', 'N/A', 'N/A', 'N/A', 'N/A', 'N/A', 'N/A', 'N/A', 'N/A', 'N/A', 'N/A', 'N/A', 'N/A', 'N/A', 'N/A', 'N/A', 'N/A', 'N/A', 'N/A', 'N/A', 'N/A', 'N/A', 'N/A', 'N/A', 'N/A', 'N/A', 'N/A', 'N/A', 'N/A', 'N/A', 'N/A', 'N/A', 'N/A', 'N/A', 'N/A', 'N/A', 'N/A', 'N/A', 'N/A', 'N/A', 'N/A', 'N/A', 'N/A', 'N/A', 'N/A', 'N/A', 'N/A', 'N/A', 'N/A', 'N/A', 'N/A', 'N/A', 'N/A', 'N/A', 'N/A', 'N/A', 'N/A', 'N/A', 'N/A', 'N/A', 'N/A', 'N/A', 'N/A', 'N/A', 'N/A', 'N/A', 'N/A', 'N/A', 'N/A', 'N/A', 'N/A', 'N/A', 'N/A', 'N/A', 'N/A', 'N/A', 'N/A', 'N/A', 'N/A', 'N/A', 'N/A', 'N/A', 'N/A', 'N/A', 'N/A', 'N/A', 'N/A', 'N/A', 'N/A', 'N/A', 'N/A', 'N/A', 'N/A', 'N/A', 'N/A', 'N/A', 'N/A', 'N/A', 'N/A', 'N/A', 'N/A', 'N/A', 'N/A', 'N/A', 'N/A', 'N/A', 'N/A', 'N/A', 'N/A', 'N/A', 'N/A', 'N/A', 'N/A', 'N/A', 'N/A', 'N/A', 'N/A', 'N/A', 'N/A', 'N/A', 'N/A', 'N/A', 'N/A', 'N/A', 'N/A', 'N/A', 'N/A', 'N/A', 'N/A', 'N/A', 'N/A', 'N/A', 'N/A', 'N/A', 'N/A', 'N/A', 'N/A', 'N/A', 'N/A', 'N/A', 'N/A', 'N/A', 'N/A', 'N/A', 'N/A', 'N/A', 'N/A', 'N/A', 'N/A', 'N/A', 'N/A', 'N/A', 'N/A', 'N/A', 'N/A', 'N/A', 'N/A', 'N/A', 'N/A', 'N/A', 'N/A', 'N/A', 'N/A', 'N/A', 'N/A', 'N/A', 'N/A', 'N/A', 'N/A', 'N/A', 'N/A', 'N/A', 'N/A', 'N/A', 'N/A', 'N/A', 'N/A', 'N/A', 'N/A', 'N/A', 'N/A', 'N/A', 'N/A', 'N/A', 'N/A', 'N/A', 'N/A', 'N/A', 'N/A', 'N/A', 'N/A', 'N/A', 'N/A', 'N/A', 'N/A', 'N/A', 'N/A', 'N/A', 'N/A', 'N/A', 'N/A', 'N/A', 'N/A', 'N/A', 'N/A', 'N/A', 'N/A', 'N/A', 'N/A', 'N/A', 'N/A', 'N/A', 'N/A', 'N/A', 'N/A', 'N/A', 'N/A', 'N/A', 'N/A', 'N/A', 'N/A', 'N/A', 'N/A', 'N/A', 'N/A', 'N/A', 'N/A', 'N/A', 'N/A', 'N/A', 'N/A', 'N/A', 'N/A', 'N/A', 'N/A', 'N/A', 'N/A', 'N/A', 'N/A', 'N/A', 'N/A', 'N/A', 'N/A', 'N/A', 'N/A', 'N/A', 'N/A', 'N/A', 'N/A', 'N/A', 'N/A', 'N/A']\n"
     ]
    }
   ],
   "source": [
    "print([movie.get('Running time (int)', 'N/A') for movie in movie_info_list])"
   ]
  },
  {
   "cell_type": "code",
   "execution_count": 9,
   "id": "77ed73d3",
   "metadata": {},
   "outputs": [
    {
     "name": "stdout",
     "output_type": "stream",
     "text": [
      "['$1.5 million', '$2.6 million', '$2.28 million', '$600,000', '$950,000', '$858,000', 'N/A', '$788,000', 'N/A', '$1.35 million', '$2.125 million', 'N/A', '$1.5 million', '$1.5 million', 'N/A', '$2.2 million', '$1.8 million', '$3 million', 'N/A', '$4 million', '$2 million', '$300,000', '$1.8 million', 'N/A', '$5 million', 'N/A', '$4 million', 'N/A', 'N/A', 'N/A', 'N/A', 'N/A', 'N/A', '$700,000', 'N/A', 'N/A', 'N/A', 'N/A', 'N/A', '$6 million', 'under $1 million or $1,250,000', 'N/A', '$2 million', 'N/A', 'N/A', '$2.5 million', 'N/A', 'N/A', '$4 million', '$3.6 million', 'N/A', 'N/A', 'N/A', 'N/A', '$3 million', 'N/A', '$3 million', 'N/A', 'N/A', 'N/A', 'N/A', 'N/A', 'N/A', 'N/A', 'N/A', 'N/A', '$3 million', 'N/A', 'N/A', 'N/A', 'N/A', '$4.4–6 million', 'N/A', 'N/A', 'N/A', 'N/A', 'N/A', 'N/A', 'N/A', 'N/A', 'N/A', 'N/A', 'N/A', '$4 million', 'N/A', '$5 million', 'N/A', 'N/A', 'N/A', 'N/A', '$5 million', 'N/A', 'N/A', 'N/A', 'N/A', 'N/A', 'N/A', '$4 million', 'N/A', 'N/A', 'N/A', '$6.3 million', 'N/A', 'N/A', 'N/A', 'N/A', 'N/A', 'N/A', 'N/A', 'N/A', '$5 million', 'N/A', 'N/A', 'N/A', 'N/A', '$8 million', 'N/A', 'N/A', 'N/A', 'N/A', 'N/A', 'N/A', 'AU$1 million', 'N/A', 'N/A', 'N/A', 'N/A', '$5 million', 'N/A', 'N/A', 'N/A', '$7.5 million', 'N/A', '$10 million', 'N/A', 'N/A', '$3.5 to 4 million', 'N/A', 'N/A', 'N/A', '$5.25 million', '$20 million', '$4.5 million', '$9 million', 'N/A', '$6-8 million', '$20 million', 'N/A', 'N/A', '$18 million', '$12 million', '$14 million', '$10 million', '$17 million', '$5 million', '$8 million', '$20 million', '$11 million', '$28 million', '$44 million', 'N/A', '$7.5 million', '$14 million', '$9 million', 'N/A', 'A$8.7 million', '$31 million', '$18 million', '$5 million', '$40 million', '$20 million', 'N/A', '$14 million', '60 million Norwegian Kroner (around $8.7 million in 1989)', 'N/A', '$35-40 million', '$25 million', '$15 million', '$32 million', '$14 million', '$28 million', '$12 million', 'N/A', 'N/A', '$11 million', '$28 million', '$17 million', '$30 million', 'N/A', '$13 million', 'N/A', 'N/A', '$5 million', '$45 million', '$31 million', 'N/A', '$22 million', '$30 million', 'N/A', 'N/A', '$22 million', ['$32 million', '(estimated)'], '$18 million', '$55 million', '$24 million', '$15 million', '$12 million', 'N/A', '$30 million', 'N/A', '$31 million', 'N/A', '$38 million', '$70 million', 'N/A', '$15 million', 'N/A', '$67 million', 'N/A', '$32 million', '$7 million', '$85 million', '$55 million', '$3 million', 'N/A', '$16 million', 'N/A', '$80 million', '$30 million', 'N/A', '$24 million', '$90 million', '$15 million', 'N/A', 'N/A', 'N/A', '$30 million', '$120 million', '$90 million', '$65 million', '$5 million', 'N/A', '$130 million', '$75–90 million', 'N/A', '$10 million', 'N/A', '$90 million', '$80–85 million', '$15 million –$30 million', 'N/A', '$4,000,000 (estimated)', '$127.5 million', '$65 million', 'N/A', 'N/A', '$30 million', '$85 million', '$100 million', '$23 million', 'N/A', '$90–120 million', '$26 million', '$25 million', '$115 million', 'N/A', '$33 million', '$20 million', '$5 million', 'N/A', '$22 million', '$80 million', 'N/A', '$35 million', 'N/A', '$15 million', '$65 million', '$140 million', 'N/A', '$20 million', '$12 million', '$46 million', '$13 million', '$20 million', '$17 million', 'N/A', '$94 million', '$140 million', '$26 million', 'N/A', 'N/A', '$46 million', '$90 million', 'N/A', '$10 million', '$28 million', 'N/A', '$15 million', 'N/A', '$110 million', 'N/A', '$110 million', 'N/A', '$45 million', 'N/A', '$92–145 million', 'N/A', '$100 million', 'N/A', 'N/A', '$20 million', '$56 million', '$25 million', 'N/A', '$50 million', '$35 million', '$35 million', 'N/A', 'N/A', '$25 million', '$150 million', '$180 million', 'N/A', '$30 million', '$1 million', 'N/A', '$40 million', '$50 million', '$80 million', '$120 million', 'N/A', '$225 million', '$30 million', 'N/A', '$24 million', 'N/A', 'N/A', '$8 million', '$17 million', '$150 million', '$300 million', '$150 million', 'N/A', '$25 million', 'N/A', '$22 million', '$85 million', '$130 million', '$7 million', '$25 million', '$225 million', '$180 million', 'N/A', '$20 million', 'N/A', '$11 million', 'N/A', '$50 million', '$150 million', '$80 million', 'N/A', '$50 million', '$30 million', 'N/A', '$175 million', 'N/A', '$150 million', 'N/A', '$30—$35 million', '$8 million ( ₽ 350 million)', '$175–200 million', '$35 million', '$105 million', '$150 –$200 million', 'N/A', '$150–200 million', '$200 million', '$150 million', '$30—$35 million', '$35 million', 'N/A', '$260 million', '$170 million', '', 'N/A', 'N/A', '$150 million', 'N/A', '$8 million', ['$410.6 million (gross)', '$378.5 million (net)'], '$200 million', '$30 million', 'N/A', '$45 million', 'N/A', ['$306.6 million (gross)', '$263.7 million (net)'], 'N/A', '$185 million', '$25 million', 'N/A', '$39 million', '$30—35 million', '$165 million', '$200 million', '$200 million', '$225–250 million', '$50 million', 'N/A', '$150 million', '$35 million', '$50 million', 'N/A', '$25 million', '$180–263 million', '$50 million', '(US$2.9 million)', '$28 million', '$165 million', '$50 million', '$17 million', 'N/A', '$84.21–95 million', '$180–190 million', '$175 million', '', '$175–200 million', '$70–80 million', '$150 million', '$175–177 million', 'N/A', '$170 million', '$200 million', '$140 million', '$65 million', '$15 million', '$150–175 million', '', '$160–255 million', '$230–320 million', '$175 million', '131 crore', ['~$8 million', '₽', '370 million'], '$175–225 million', '$100–130 million', '$200 million', '$65-70 million', '$120–133 million', '$175 million', '$130 million', '$170 million', '$183 million', '$200 million', '$250–260 million', '$185 million', '$60 million', 'N/A', '$150 million', '$40 million', '$42 million', '$175–200 million', 'N/A', '$125 million', '$12.5 million (stage production)', 'N/A', '$24 million', 'N/A', '$200 million', 'N/A', '$26 million', '$150 million', '₽650 million', 'N/A', '$100 million+', '$100–200 million', 'N/A', '$200 million', '$120–150 million', 'N/A', '₽454 million', 'N/A', '$175 million', 'N/A', '$36 million', '~$70 million', 'N/A', '$200 million', 'N/A', 'N/A', '$40 million', 'N/A', '$135–180 million', 'N/A', 'N/A', 'N/A', 'N/A', 'N/A', 'N/A', '$157.8 million', 'N/A', '$175 million', '$250–260 million', '$53.4 million', 'N/A', '$28 million', '$858,000', 'N/A', '$9 million', '$85 million', '$70 million', '$75–90 million', '$80 million', '$130 million', 'N/A', '$5 million', '$18 million or $25 million', 'N/A', '$4 million', ['$15,000,000', '(1 film)'], '$3 million', '$11—15 million', 'N/A', '$35-40 million', '$30 million', '$150 million', '$150 million']\n"
     ]
    }
   ],
   "source": [
    "print([movie.get('Budget', 'N/A') for movie in movie_info_list])"
   ]
  },
  {
   "cell_type": "markdown",
   "id": "74551418",
   "metadata": {},
   "source": [
    "## Format Budget And Box Office"
   ]
  },
  {
   "cell_type": "code",
   "execution_count": 10,
   "id": "055a5452",
   "metadata": {},
   "outputs": [],
   "source": [
    "import re\n",
    "\n",
    "amounts = r\"thousand|million|billion\"\n",
    "number = r\"\\d+(,\\d{3})*\\.*\\d*\"\n",
    "\n",
    "word_re = rf\"\\${number}(-|\\sto\\s|–)?({number})?\\s({amounts})\"\n",
    "value_re = rf\"\\${number}\"\n",
    "\n",
    "def word_to_value(word):\n",
    "    value_dict = {\"thousand\": 1000, \"million\": 1000000, \"billion\": 1000000000}\n",
    "    return value_dict[word]\n",
    "\n",
    "def parse_word_syntax(string):\n",
    "    value_string = re.search(number, string).group()\n",
    "    value = float(value_string.replace(\",\", \"\"))\n",
    "    word = re.search(amounts, string, flags=re.I).group().lower()\n",
    "    word_value = word_to_value(word)\n",
    "    return value*word_value\n",
    "\n",
    "def parse_value_syntax(string):\n",
    "    value_string = re.search(number, string).group()\n",
    "    value = float(value_string.replace(\",\", \"\"))\n",
    "    return value\n",
    "\n",
    "\n",
    "\n",
    "'''\n",
    "money_conversion(\"$12.2 million\") --> 12200000 ## Word syntax\n",
    "money_conversion(\"$790,000\") --> 790000        ## Value syntax\n",
    "'''\n",
    "def money_conversion(money):\n",
    "    if money == \"N/A\":\n",
    "        return None\n",
    "\n",
    "    if isinstance(money, list):\n",
    "        money = money[0]\n",
    "        \n",
    "    word_syntax = re.search(word_re, money, flags=re.I)\n",
    "    value_syntax = re.search(value_re, money)\n",
    "\n",
    "    if word_syntax:\n",
    "        return parse_word_syntax(word_syntax.group())\n",
    "\n",
    "    elif value_syntax:\n",
    "        return parse_value_syntax(value_syntax.group())\n",
    "\n",
    "    else:\n",
    "        return None"
   ]
  },
  {
   "cell_type": "code",
   "execution_count": 11,
   "id": "9b2d7232",
   "metadata": {},
   "outputs": [],
   "source": [
    "for movie in movie_info_list:\n",
    "    movie['Budget (float)'] = money_conversion(movie.get('Budget', \"N/A\"))\n",
    "    movie['Box office (float)'] = money_conversion(movie.get('Box office', \"N/A\"))"
   ]
  },
  {
   "cell_type": "code",
   "execution_count": 12,
   "id": "f77c5e0e",
   "metadata": {},
   "outputs": [
    {
     "data": {
      "text/plain": [
       "200000000.0"
      ]
     },
     "execution_count": 12,
     "metadata": {},
     "output_type": "execute_result"
    }
   ],
   "source": [
    "money_conversion(str(movie_info_list[-40][\"Budget\"]))"
   ]
  },
  {
   "cell_type": "markdown",
   "id": "ecf218dc",
   "metadata": {},
   "source": [
    "## Convert Dates Into Datetimes"
   ]
  },
  {
   "cell_type": "code",
   "execution_count": 13,
   "id": "ca6ddd4b",
   "metadata": {},
   "outputs": [
    {
     "name": "stdout",
     "output_type": "stream",
     "text": [
      "['N/A', 'N/A', ['November 13, 1940'], ['June 27, 1941'], 'N/A', 'N/A', 'N/A', ['July 17, 1943'], 'N/A', 'N/A', 'N/A', ['September 27, 1947'], 'May 27, 1948', 'N/A', ['October 5, 1949'], 'N/A', 'N/A', 'N/A', 'N/A', ['February 5, 1953'], ['July 23, 1953 (United States)'], ['November 10, 1953'], 'N/A', ['August 17, 1954'], ['December 23, 1954'], 'May 25, 1955', ['June 22, 1955'], ['September 14, 1955'], 'December 22, 1955', 'June 8, 1956', ['July 18, 1956'], ['September 4, 1956'], ['December 20, 1956'], 'June 19, 1957', 'August 28, 1957', ['December 25, 1957'], ['July 8, 1958'], ['August 12, 1958'], ['December 25, 1958'], ['January 29, 1959'], ['March 19, 1959'], 'N/A', ['November 10, 1959'], 'January 21, 1960 ( Sarasota, FL )', ['February 24, 1960'], 'May 19, 1960', 'N/A', ['November 1, 1960'], ['December 21, 1960'], ['January 25, 1961'], 'March 16, 1961', ['June 21, 1961'], ['July 12, 1961'], ['July 17, 1961'], ['December 14, 1961'], 'April 5, 1962', ['May 17, 1962'], ['June 6, 1962'], 'September 26, 1962', ['November 7, 1962 (Los Angeles)'], 'N/A', ['January 16, 1963'], ['March 29, 1963 (U.S.)'], ['June 1, 1963'], ['July 7, 1963'], 'November 20, 1963', 'N/A', ['March 12, 1964'], ['February 11, 1964 (Los Angeles)'], 'N/A', ['July 2, 1964'], 'N/A', 'November 10, 1964', ['December 18, 1964'], ['August 18, 1965 (Los Angeles)'], ['December 2, 1965'], 'N/A', 'N/A', 'October 1, 1966', ['December 1, 1966'], ['February 8, 1967 (San Francisco)'], ['June 15, 1967'], ['July 12, 1967'], ['October 18, 1967'], ['October 19, 1967'], 'N/A', ['February 8, 1968'], ['March 21, 1968 ( Radio City Music Hall )'], ['June 26, 1968'], ['December 3, 1968'], 'N/A', ['March 21, 1969'], ['June 11, 1969'], ['November 28, 1969'], ['February 11, 1970'], 'July 1, 1970', ['December 15, 1970'], 'N/A', ['March 17, 1971'], 'June 22, 1971', ['June 30, 1971'], ['October 7, 1971'], ['March 22, 1972 (US)'], 'July 12, 1972', ['July 5, 1972'], ['October 18, 1972'], ['December 22, 1972'], 'February 1, 1973', ['March 23, 1973'], ['June 20, 1973'], ['November 8, 1973'], ['December 14, 1973'], ['June 6, 1974'], ['July 31, 1974'], ['August 1, 1974'], 'December 20, 1974 (with Winnie the Pooh and Tigger Too )', ['February 6, 1975'], ['March 21, 1975 (United States)'], ['July 1, 1975'], ['July 9, 1975'], ['October 8, 1975'], ['1948–1960'], 'December 25, 1975', ['February 11, 1976 (Los Angeles)'], ['July 1, 1976'], ['July 7, 1976'], ['December 16, 1976'], 'N/A', 'N/A', ['March 11, 1977'], ['June 20, 1977'], ['June 22, 1977'], ['June 24, 1977'], ['November 3, 1977'], 'December 16, 1977', ['March 10, 1978'], ['June 30, 1978 (New York)'], 'July 5, 1978', 'February 9, 1979', ['June 27, 1979'], 'N/A', 'N/A', ['February 8, 1980'], 'N/A', ['June 27, 1980'], ['July 9, 1980 (Los Angeles)'], 'N/A', 'February 11, 1981 (Los Angeles)', 'March 20, 1981', ['June 26, 1981'], ['July 10, 1981'], ['August 7, 1981'], ['February 5, 1982'], ['July 9, 1982'], ['July 30, 1982'], ['March 11, 1983'], ['April 29, 1983 (United States)'], 'N/A', ['June 21, 1985 (United States)'], ['July 24, 1985'], ['September 27, 1985'], ['November 22, 1985'], ['July 2, 1986'], ['August 1, 1986'], ['June 5, 1987'], ['24 March 1988 (Australia)'], ['November 18, 1988'], ['June 23, 1989'], 'August 18, 1989', ['November 17, 1989'], ['August 3, 1990'], ['November 16, 1990'], ['January 18, 1991'], 'N/A', ['May 24, 1991'], ['June 21, 1991'], 'N/A', ['April 10, 1992'], ['July 17, 1992'], ['October 2, 1992'], ['November 11, 1992'], ['December 11, 1992'], 'February 3, 1993', ['March 12, 1993'], ['April 2, 1993'], ['July 16, 1993'], ['October 1, 1993'], ['November 12, 1993'], ['January 14, 1994'], ['February 11, 1994'], ['March 25, 1994'], ['April 14, 1994'], ['May 20, 1994'], ['June 15, 1994 (United States)'], ['July 15, 1994'], ['October 28, 1994'], 'N/A', ['December 25, 1994'], ['January 31, 1995'], ['February 17, 1995'], ['March 3, 1995'], ['March 24, 1995'], ['April 7, 1995'], ['June 16, 1995 (United States)'], ['July 28, 1995'], ['August 11, 1995'], ['September 27, 1995'], 'N/A', 'N/A', ['December 22, 1995'], ['February 16, 1996'], ['March 8, 1996'], 'N/A', 'N/A', ['August 13, 1996'], ['August 30, 1996'], ['October 4, 1996'], 'N/A', ['February 14, 1997'], 'N/A', 'March 18, 1997', ['June 13, 1997 (United States)'], ['July 16, 1997'], ['August 1, 1997'], ['August 5, 1997'], ['October 10, 1997'], ['November 11, 1997'], 'N/A', ['December 25, 1997'], 'February 17, 1998', ['March 27, 1998 (United States)'], 'N/A', ['July 29, 1998 (United States)'], ['August 25, 1998'], 'September 29, 1998', ['October 27, 1998'], ['November 13, 1998'], 'N/A', ['December 25, 1998'], ['February 12, 1999'], ['March 26, 1999'], 'N/A', 'N/A', ['July 23, 1999'], ['August 17, 1999'], 'N/A', ['November 9, 1999'], 'N/A', 'N/A', 'February 11, 2000', ['February 29, 2000'], ['March 10, 2000'], ['May 19, 2000 (United States)'], ['July 7, 2000'], ['August 8, 2000 (United States)'], ['September 19, 2000'], ['September 29, 2000'], ['November 22, 2000 (United States)'], 'N/A', 'N/A', ['February 27, 2001'], 'N/A', 'N/A', ['October 5, 2001'], 'N/A', ['November 6, 2001'], ['January 18, 2002'], 'N/A', ['February 26, 2002'], ['March 19, 2002'], ['March 29, 2002'], 'N/A', ['July 23, 2002'], 'N/A', 'September 3, 2002', ['October 11, 2002 (U.S.)'], 'N/A', 'N/A', ['January 21, 2003'], ['February 14, 2003'], ['March 11, 2003'], 'N/A', 'N/A', ['April 18, 2003 (United States)'], ['May 2, 2003 (United States)'], ['May 20, 2003'], 'N/A', 'N/A', 'N/A', ['August 26, 2003'], ['October 21, 2003'], ['November 1, 2003'], ['November 26, 2003'], ['December 25, 2003'], ['January 16, 2004'], ['February 20, 2004'], ['February 10, 2004'], ['February 20, 2004 (United States)'], ['March 9, 2004'], 'N/A', ['April 22, 2004'], ['June 16, 2004'], ['July 2, 2004'], ['August 11, 2004'], ['August 17, 2004'], 'N/A', ['November 9, 2004'], ['November 19, 2004'], ['January 28, 2005'], 'N/A', ['February 11, 2005'], ['March 4, 2005'], ['March 18, 2005'], ['June 14, 2005'], 'N/A', ['July 29, 2005'], 'N/A', ['August 30, 2005'], ['September 13, 2005'], ['September 30, 2005'], 'N/A', 'N/A', 'December 13, 2005', 'January 13, 2006', ['January 27, 2006'], 'N/A', ['February 17, 2006 (United States)'], ['March 10, 2006'], ['April 14, 2006'], 'N/A', 'N/A', 'N/A', ['August 25, 2006'], ['August 29, 2006'], 'N/A', ['November 3, 2006'], ['December 12, 2006'], ['February 6, 2007'], ['February 16, 2007'], 'N/A', 'N/A', 'N/A', 'N/A', ['August 3, 2007'], ['August 28, 2007'], 'N/A', 'N/A', ['December 21, 2007'], 'February 1, 2008', ['March 7, 2008'], 'N/A', 'N/A', ['26 August 2008'], 'N/A', 'October 17, 2008', 'N/A', 'N/A', ['October 28, 2008'], 'N/A', ['December 25, 2008'], ['February 27, 2009'], 'N/A', ['April 10, 2009'], 'N/A', 'N/A', 'N/A', ['July 24, 2009'], ['2009'], 'N/A', ['October 29, 2009'], 'N/A', ['November 25, 2009'], 'N/A', 'N/A', 'N/A', 'N/A', 'N/A', 'N/A', 'N/A', 'N/A', ['8 October 2010'], 'N/A', 'N/A', ['14 January 2011 (India)'], ['February 1, 2011'], ['17 February 2011'], 'N/A', ['22 April 2011'], ['April 29, 2011'], 'N/A', 'N/A', 'N/A', ['September 20, 2011'], 'N/A', ['January 31, 2012'], 'N/A', ['25 May 2012'], 'N/A', ['August 15, 2012'], ['September 18, 2012'], 'N/A', 'N/A', 'N/A', 'N/A', 'N/A', 'N/A', 'N/A', ['August 27, 2013'], 'N/A', 'N/A', 'N/A', 'N/A', 'N/A', 'N/A', 'N/A', ['19 September 2014'], 'N/A', 'N/A', 'N/A', 'N/A', 'N/A', 'N/A', 'N/A', 'N/A', ['19 June 2015'], 'N/A', 'N/A', 'N/A', 'N/A', 'N/A', 'N/A', 'N/A', 'N/A', 'N/A', 'N/A', 'N/A', 'N/A', 'N/A', 'N/A', 'N/A', ['14 July 2017'], ['October 29, 2017 ( Russia )'], 'N/A', 'N/A', 'N/A', 'N/A', 'N/A', 'N/A', 'N/A', 'N/A', 'N/A', 'N/A', 'N/A', ['October 18, 2019'], ['November 12, 2019 (United States)'], ['November 12, 2019 ( Disney+ )'], 'N/A', ['December 20, 2019 (United States)'], 'N/A', 'N/A', ['March 13, 2020'], ['June 12, 2020'], ['July 3, 2020'], ['July 31, 2020'], ['August 14, 2020'], ['August 21, 2020 (United States)'], 'N/A', ['December 4, 2020'], ['December 11, 2020 (United States)'], 'N/A', 'N/A', ['February 19, 2021'], ['March 5, 2021 (United States)'], 'N/A', 'N/A', 'N/A', 'N/A', ['December 3, 2021'], ['23 December 2021'], ['January 28, 2022 (North America)'], 'N/A', 'N/A', 'N/A', 'N/A', 'N/A', 'N/A', ['June 24, 2022'], ['September 8, 2022'], ['September 30, 2022'], 'N/A', 'N/A', 'December 2, 2022', ['December 9, 2022'], ['March 10, 2023'], ['April 28, 2023'], ['May 26, 2023 (United States)'], ['June 16, 2023'], ['July 28, 2023'], ['March 22, 2024'], 'N/A', 'N/A', 'N/A', 'N/A', 'N/A', 'N/A', '1950–present', ['August 1, 1986'], ['June 13, 1997 (United States)'], 'N/A', ['July 23, 1999'], 'N/A', ['December 21, 2007'], 'N/A', ['November 8, 1973'], ['June 6, 1986 (United States)'], 'N/A', 'N/A', '1961– present', 'N/A', ['November 25, 1987'], 'N/A', ['June 21, 1991'], 'N/A', 'N/A', 'N/A']\n"
     ]
    }
   ],
   "source": [
    "\n",
    "print([movie.get('Release date', 'N/A') for movie in movie_info_list])"
   ]
  },
  {
   "cell_type": "code",
   "execution_count": 14,
   "id": "59e02d46",
   "metadata": {},
   "outputs": [],
   "source": [
    "# June 28, 1950\n",
    "from datetime import datetime\n",
    "\n",
    "dates = [movie.get('Release date', 'N/A') for movie in movie_info_list]\n",
    "\n",
    "def clean_date(date):\n",
    "    return date.split(\"(\")[0].strip()\n",
    "\n",
    "def date_conversion(date):\n",
    "    if isinstance(date, list):\n",
    "        date = date[0]\n",
    "        \n",
    "    if date == \"N/A\":\n",
    "        return None\n",
    "        \n",
    "    date_str = clean_date(date)\n",
    "\n",
    "    fmts = [\"%B %d, %Y\", \"%d %B %Y\"]\n",
    "    for fmt in fmts:\n",
    "        try:\n",
    "            return datetime.strptime(date_str, fmt)\n",
    "        except:\n",
    "            pass\n",
    "    return None"
   ]
  },
  {
   "cell_type": "code",
   "execution_count": 22,
   "id": "5c6b680b",
   "metadata": {},
   "outputs": [],
   "source": [
    "for movie in movie_info_list:\n",
    "    movie['Release date (datetime)'] = date_conversion(movie.get('Release date', 'N/A'))"
   ]
  },
  {
   "cell_type": "code",
   "execution_count": 15,
   "id": "4432a4cc",
   "metadata": {},
   "outputs": [
    {
     "data": {
      "text/plain": [
       "{'title': 'The Absent-Minded Professor',\n",
       " 'Directed by': 'Robert Stevenson',\n",
       " 'Screenplay by': 'Bill Walsh',\n",
       " 'Based on': ['\"A Situation of Gravity\"', 'by', 'Samuel W. Taylor'],\n",
       " 'Produced by': ['Walt Disney'],\n",
       " 'Starring': ['Fred MacMurray',\n",
       "  'Nancy Olson',\n",
       "  'Keenan Wynn',\n",
       "  'Tommy Kirk',\n",
       "  'Leon Ames',\n",
       "  'Elliott Reid',\n",
       "  'Edward Andrews',\n",
       "  'Wally Brown',\n",
       "  'Alan Carney',\n",
       "  'Forrest Lewis',\n",
       "  'James Westerfield',\n",
       "  'Ed Wynn'],\n",
       " 'Cinematography': 'Edward Colman',\n",
       " 'Edited by': 'Cotton Warburton',\n",
       " 'Music by': 'George Bruns',\n",
       " 'Production company': 'Walt Disney Productions',\n",
       " 'Distributed by': 'Buena Vista Distribution',\n",
       " 'Release date': 'March 16, 1961',\n",
       " 'Running time': '97 minutes',\n",
       " 'Country': 'United States',\n",
       " 'Language': 'English',\n",
       " 'Box office': '$25.3 million',\n",
       " 'Budget (float)': None,\n",
       " 'Box office (float)': 25300000.0}"
      ]
     },
     "execution_count": 15,
     "metadata": {},
     "output_type": "execute_result"
    }
   ],
   "source": [
    "movie_info_list[50]"
   ]
  },
  {
   "cell_type": "markdown",
   "id": "835c662e",
   "metadata": {},
   "source": [
    "## Save Using Pickle"
   ]
  },
  {
   "cell_type": "code",
   "execution_count": 19,
   "id": "5ee82ca6",
   "metadata": {},
   "outputs": [],
   "source": [
    "import pickle\n",
    "\n",
    "def save_data_pickle(name, data):\n",
    "    with open(name, 'wb') as f:\n",
    "        pickle.dump(data, f)"
   ]
  },
  {
   "cell_type": "code",
   "execution_count": 17,
   "id": "946c9d21",
   "metadata": {},
   "outputs": [],
   "source": [
    "import pickle\n",
    "\n",
    "def load_data_pickle(name):\n",
    "    with open(name, 'rb') as f:\n",
    "        return pickle.load(f)"
   ]
  },
  {
   "cell_type": "code",
   "execution_count": 20,
   "id": "37c9bf8d",
   "metadata": {},
   "outputs": [],
   "source": [
    "save_data_pickle(\"disney_movie_data_cleaned_more.pickle\", movie_info_list)"
   ]
  },
  {
   "cell_type": "code",
   "execution_count": 21,
   "id": "08af2d7b",
   "metadata": {},
   "outputs": [],
   "source": [
    "a = load_data_pickle(\"disney_movie_data_cleaned_more.pickle\")"
   ]
  },
  {
   "cell_type": "code",
   "execution_count": null,
   "id": "9047e36a",
   "metadata": {},
   "outputs": [],
   "source": []
  },
  {
   "cell_type": "code",
   "execution_count": null,
   "id": "ab0f91a1",
   "metadata": {},
   "outputs": [],
   "source": []
  },
  {
   "cell_type": "code",
   "execution_count": 112,
   "id": "abeb036b",
   "metadata": {},
   "outputs": [],
   "source": [
    "movie_info_list = load_data_pickle('disney_movie_data_cleaned_more.pickle')"
   ]
  },
  {
   "cell_type": "code",
   "execution_count": null,
   "id": "382ec804",
   "metadata": {},
   "outputs": [],
   "source": []
  },
  {
   "cell_type": "code",
   "execution_count": null,
   "id": "44ea487b",
   "metadata": {},
   "outputs": [],
   "source": [
    "# http://www.omdbapi.com/?apikey=[yourkey]&"
   ]
  },
  {
   "cell_type": "markdown",
   "id": "918c8899",
   "metadata": {},
   "source": [
    "## Attach IMDB/ Rotten-Tomatoes/ Metascore scores"
   ]
  },
  {
   "cell_type": "code",
   "execution_count": 41,
   "id": "5a2d4821",
   "metadata": {},
   "outputs": [
    {
     "data": {
      "text/plain": [
       "{'Title': 'Into the Woods',\n",
       " 'Year': '2014',\n",
       " 'Rated': 'PG',\n",
       " 'Released': '25 Dec 2014',\n",
       " 'Runtime': '125 min',\n",
       " 'Genre': 'Adventure, Comedy, Drama',\n",
       " 'Director': 'Rob Marshall',\n",
       " 'Writer': 'James Lapine',\n",
       " 'Actors': 'Anna Kendrick, Meryl Streep, Chris Pine',\n",
       " 'Plot': 'A witch tasks a childless baker and his wife with procuring magical items from classic fairy tales to reverse the curse put on their family tree.',\n",
       " 'Language': 'English',\n",
       " 'Country': 'United States',\n",
       " 'Awards': 'Nominated for 3 Oscars. 10 wins & 74 nominations total',\n",
       " 'Poster': 'https://m.media-amazon.com/images/M/MV5BMTY4MzQ4OTY3NF5BMl5BanBnXkFtZTgwNjM5MDI3MjE@._V1_SX300.jpg',\n",
       " 'Ratings': [{'Source': 'Internet Movie Database', 'Value': '5.9/10'},\n",
       "  {'Source': 'Rotten Tomatoes', 'Value': '71%'},\n",
       "  {'Source': 'Metacritic', 'Value': '69/100'}],\n",
       " 'Metascore': '69',\n",
       " 'imdbRating': '5.9',\n",
       " 'imdbVotes': '143,418',\n",
       " 'imdbID': 'tt2180411',\n",
       " 'Type': 'movie',\n",
       " 'DVD': '24 Mar 2015',\n",
       " 'BoxOffice': '$128,002,372',\n",
       " 'Production': 'N/A',\n",
       " 'Website': 'N/A',\n",
       " 'Response': 'True'}"
      ]
     },
     "execution_count": 41,
     "metadata": {},
     "output_type": "execute_result"
    }
   ],
   "source": [
    "import requests\n",
    "import urllib\n",
    "import os\n",
    "\n",
    "def get_omdb_info(title):\n",
    "    base_url = \"http://www.omdbapi.com/?\"\n",
    "    parameters = {\"apikey\": os.environ['OMDB_API_KEY'], 't': title}\n",
    "    params_encoded = urllib.parse.urlencode(parameters)\n",
    "    full_url = base_url + params_encoded\n",
    "    return requests.get(full_url).json()\n",
    "\n",
    "def get_rotten_tomato_score(omdb_info):\n",
    "    ratings = omdb_info.get('Ratings', [])\n",
    "    for rating in ratings:\n",
    "        if rating['Source'] == 'Rotten Tomatoes':\n",
    "            return rating['Value']\n",
    "    return None\n",
    "\n",
    "get_omdb_info(\"into the woods\")"
   ]
  },
  {
   "cell_type": "code",
   "execution_count": 26,
   "id": "fdaa6261",
   "metadata": {},
   "outputs": [],
   "source": [
    "for movie in movie_info_list:\n",
    "    title = movie['title']\n",
    "    omdb_info = get_omdb_info(title)\n",
    "    movie['imdb'] = omdb_info.get('imdbRating', None)\n",
    "    movie['metascore'] = omdb_info.get('Metascore', None)\n",
    "    movie['rotten_tomatoes'] = get_rotten_tomato_score(omdb_info)"
   ]
  },
  {
   "cell_type": "code",
   "execution_count": 56,
   "id": "1c18260a",
   "metadata": {},
   "outputs": [
    {
     "data": {
      "text/plain": [
       "{'title': 'Fantasia',\n",
       " 'Directed by': ['Samuel Armstrong',\n",
       "  'James Algar',\n",
       "  'Bill Roberts',\n",
       "  'Paul Satterfield',\n",
       "  'Ben Sharpsteen',\n",
       "  'David D. Hand',\n",
       "  'Hamilton Luske',\n",
       "  'Jim Handley',\n",
       "  'Ford Beebe',\n",
       "  'T. Hee',\n",
       "  'Norman Ferguson',\n",
       "  'Wilfred Jackson'],\n",
       " 'Story by': ['Joe Grant', 'Dick Huemer'],\n",
       " 'Produced by': ['Walt Disney', 'Ben Sharpsteen'],\n",
       " 'Starring': ['Leopold Stokowski', 'Deems Taylor'],\n",
       " 'Narrated by': 'Deems Taylor',\n",
       " 'Cinematography': 'James Wong Howe',\n",
       " 'Music by': 'See program',\n",
       " 'Production company': 'Walt Disney Productions',\n",
       " 'Distributed by': 'RKO Radio Pictures',\n",
       " 'Release date': ['November 13, 1940'],\n",
       " 'Running time': '126 minutes',\n",
       " 'Country': 'United States',\n",
       " 'Language': 'English',\n",
       " 'Budget': '$2.28 million',\n",
       " 'Box office': '$76.4–$83.3 million (United States and Canada)',\n",
       " 'Budget (float)': 2280000.0,\n",
       " 'Box office (float)': 83300000.0,\n",
       " 'imdb': 7.7,\n",
       " 'metascore': 96.0,\n",
       " 'rotten_tomatoes': '95%'}"
      ]
     },
     "execution_count": 56,
     "metadata": {},
     "output_type": "execute_result"
    }
   ],
   "source": [
    "movie_info_list[2]"
   ]
  },
  {
   "cell_type": "code",
   "execution_count": null,
   "id": "7e43829b",
   "metadata": {},
   "outputs": [],
   "source": [
    "metascore = [m for m in movie_info_list if m['metascore'] == None]\n",
    "\n",
    "len(metascore)"
   ]
  },
  {
   "cell_type": "code",
   "execution_count": 61,
   "id": "ab60fcc8",
   "metadata": {},
   "outputs": [
    {
     "data": {
      "text/plain": [
       "22"
      ]
     },
     "execution_count": 61,
     "metadata": {},
     "output_type": "execute_result"
    }
   ],
   "source": [
    "metascore = [m for m in movie_info_list if m['metascore'] == None]\n",
    "\n",
    "len(metascore)"
   ]
  },
  {
   "cell_type": "code",
   "execution_count": 63,
   "id": "2f943e5c",
   "metadata": {},
   "outputs": [
    {
     "data": {
      "text/plain": [
       "22"
      ]
     },
     "execution_count": 63,
     "metadata": {},
     "output_type": "execute_result"
    }
   ],
   "source": [
    "imdb = [m for m in movie_info_list if m['imdb'] == None]\n",
    "\n",
    "len(imdb)"
   ]
  },
  {
   "cell_type": "code",
   "execution_count": 88,
   "id": "c283ebb8",
   "metadata": {},
   "outputs": [
    {
     "data": {
      "text/plain": [
       "0"
      ]
     },
     "execution_count": 88,
     "metadata": {},
     "output_type": "execute_result"
    }
   ],
   "source": [
    "metascore = [m for m in movie_info_list if m['metascore'] == None]\n",
    "\n",
    "len(metascore)"
   ]
  },
  {
   "cell_type": "code",
   "execution_count": 87,
   "id": "a6a356c6",
   "metadata": {},
   "outputs": [],
   "source": [
    "import numpy \n",
    "for n in movie_info_list:\n",
    "    if n['metascore'] == None:\n",
    "        movie_info_list.remove(n)"
   ]
  },
  {
   "cell_type": "code",
   "execution_count": 98,
   "id": "753936ef",
   "metadata": {},
   "outputs": [],
   "source": [
    "for n in movie_info_list:\n",
    "    if n['metascore'] == \"N/A\":\n",
    "        movie_info_list.remove(n)"
   ]
  },
  {
   "cell_type": "code",
   "execution_count": 99,
   "id": "0a22ae9d",
   "metadata": {},
   "outputs": [
    {
     "data": {
      "text/plain": [
       "0"
      ]
     },
     "execution_count": 99,
     "metadata": {},
     "output_type": "execute_result"
    }
   ],
   "source": [
    "metascore = [m for m in movie_info_list if m['metascore'] == 'N/A']\n",
    "\n",
    "len(metascore)"
   ]
  },
  {
   "cell_type": "code",
   "execution_count": 93,
   "id": "2f789b83",
   "metadata": {},
   "outputs": [
    {
     "data": {
      "text/plain": [
       "0"
      ]
     },
     "execution_count": 93,
     "metadata": {},
     "output_type": "execute_result"
    }
   ],
   "source": [
    "rotten_tomatoes = [m for m in movie_info_list if m['rotten_tomatoes'] == None]\n",
    "\n",
    "len(rotten_tomatoes)"
   ]
  },
  {
   "cell_type": "code",
   "execution_count": 100,
   "id": "d0f103c8",
   "metadata": {},
   "outputs": [],
   "source": [
    "for movie in movie_info_list:\n",
    "    movie['imdb'] = float(movie['imdb']) \n",
    "    movie['metascore'] = float(movie['metascore'])\n",
    "    "
   ]
  },
  {
   "cell_type": "code",
   "execution_count": 101,
   "id": "fb491c98",
   "metadata": {},
   "outputs": [],
   "source": [
    "save_data_pickle('disney_movie_data_final.pickle', movie_info_list)"
   ]
  },
  {
   "cell_type": "code",
   "execution_count": null,
   "id": "da1c062e",
   "metadata": {},
   "outputs": [],
   "source": []
  },
  {
   "cell_type": "code",
   "execution_count": 102,
   "id": "3ce33707",
   "metadata": {},
   "outputs": [
    {
     "data": {
      "text/plain": [
       "{'title': 'The Watcher in the Woods',\n",
       " 'Directed by': ['John Hough', 'Vincent McEveety (uncredited)'],\n",
       " 'Screenplay by': ['Brian Clemens', 'Harry Spalding', 'Rosemary Anne Sisson'],\n",
       " 'Based on': ['A Watcher in the Woods', 'by', 'Florence Engel Randall'],\n",
       " 'Produced by': 'Ron Miller',\n",
       " 'Starring': ['Bette Davis',\n",
       "  'Carroll Baker',\n",
       "  'David McCallum',\n",
       "  'Lynn-Holly Johnson',\n",
       "  'Kyle Richards'],\n",
       " 'Cinematography': 'Alan Hume',\n",
       " 'Edited by': 'Geoffrey Foot',\n",
       " 'Music by': 'Stanley Myers',\n",
       " 'Production company': 'Walt Disney Productions',\n",
       " 'Distributed by': 'Buena Vista Distribution',\n",
       " 'Release dates': ['April 17, 1980 (New York City)', 'October 9, 1981 (U.S.)'],\n",
       " 'Running time': '84 minutes',\n",
       " 'Country': 'United States',\n",
       " 'Language': 'English',\n",
       " 'Budget': '$9 million',\n",
       " 'Box office': '$5 million',\n",
       " 'Budget (float)': 9000000.0,\n",
       " 'Box office (float)': 5000000.0,\n",
       " 'imdb': 6.1,\n",
       " 'metascore': 52.0,\n",
       " 'rotten_tomatoes': '50%'}"
      ]
     },
     "execution_count": 102,
     "metadata": {},
     "output_type": "execute_result"
    }
   ],
   "source": [
    "movie_info_list[50]"
   ]
  },
  {
   "cell_type": "code",
   "execution_count": 103,
   "id": "3d10bb68",
   "metadata": {},
   "outputs": [],
   "source": [
    "movie_info_copy = [movie.copy() for movie in movie_info_list]"
   ]
  },
  {
   "cell_type": "code",
   "execution_count": null,
   "id": "85f20622",
   "metadata": {},
   "outputs": [],
   "source": []
  },
  {
   "cell_type": "code",
   "execution_count": 114,
   "id": "b2b6bc06",
   "metadata": {},
   "outputs": [],
   "source": [
    "save_data(\"disney_data_final.json\", movie_info_copy)"
   ]
  },
  {
   "cell_type": "code",
   "execution_count": 106,
   "id": "be1bb51e",
   "metadata": {},
   "outputs": [],
   "source": [
    "import pandas as pd\n",
    "\n",
    "df = pd.DataFrame(movie_info_list)"
   ]
  },
  {
   "cell_type": "code",
   "execution_count": 107,
   "id": "877d0a2e",
   "metadata": {},
   "outputs": [
    {
     "data": {
      "text/html": [
       "<div>\n",
       "<style scoped>\n",
       "    .dataframe tbody tr th:only-of-type {\n",
       "        vertical-align: middle;\n",
       "    }\n",
       "\n",
       "    .dataframe tbody tr th {\n",
       "        vertical-align: top;\n",
       "    }\n",
       "\n",
       "    .dataframe thead th {\n",
       "        text-align: right;\n",
       "    }\n",
       "</style>\n",
       "<table border=\"1\" class=\"dataframe\">\n",
       "  <thead>\n",
       "    <tr style=\"text-align: right;\">\n",
       "      <th></th>\n",
       "      <th>title</th>\n",
       "      <th>Directed by</th>\n",
       "      <th>Story by</th>\n",
       "      <th>Based on</th>\n",
       "      <th>Produced by</th>\n",
       "      <th>Starring</th>\n",
       "      <th>Music by</th>\n",
       "      <th>Production company</th>\n",
       "      <th>Distributed by</th>\n",
       "      <th>Release dates</th>\n",
       "      <th>...</th>\n",
       "      <th>Release date</th>\n",
       "      <th>Languages</th>\n",
       "      <th>Screenplay by</th>\n",
       "      <th>Edited by</th>\n",
       "      <th>Written by</th>\n",
       "      <th>Color process</th>\n",
       "      <th>Countries</th>\n",
       "      <th>Production companies</th>\n",
       "      <th>Adaptation by</th>\n",
       "      <th>Layouts by</th>\n",
       "    </tr>\n",
       "  </thead>\n",
       "  <tbody>\n",
       "    <tr>\n",
       "      <th>0</th>\n",
       "      <td>Pinocchio</td>\n",
       "      <td>[Ben Sharpsteen, Hamilton Luske, Bill Roberts,...</td>\n",
       "      <td>[Ted Sears, Otto Englander, Webb Smith, Willia...</td>\n",
       "      <td>[The Adventures of Pinocchio, by, Carlo Collodi]</td>\n",
       "      <td>Walt Disney</td>\n",
       "      <td>[Cliff Edwards, Dickie Jones, Christian Rub, W...</td>\n",
       "      <td>[Leigh Harline, Paul J. Smith]</td>\n",
       "      <td>Walt Disney Productions</td>\n",
       "      <td>RKO Radio Pictures</td>\n",
       "      <td>[February 7, 1940 ( Center Theatre ), February...</td>\n",
       "      <td>...</td>\n",
       "      <td>NaN</td>\n",
       "      <td>NaN</td>\n",
       "      <td>NaN</td>\n",
       "      <td>NaN</td>\n",
       "      <td>NaN</td>\n",
       "      <td>NaN</td>\n",
       "      <td>NaN</td>\n",
       "      <td>NaN</td>\n",
       "      <td>NaN</td>\n",
       "      <td>NaN</td>\n",
       "    </tr>\n",
       "    <tr>\n",
       "      <th>1</th>\n",
       "      <td>Fantasia</td>\n",
       "      <td>[Samuel Armstrong, James Algar, Bill Roberts, ...</td>\n",
       "      <td>[Joe Grant, Dick Huemer]</td>\n",
       "      <td>NaN</td>\n",
       "      <td>[Walt Disney, Ben Sharpsteen]</td>\n",
       "      <td>[Leopold Stokowski, Deems Taylor]</td>\n",
       "      <td>See program</td>\n",
       "      <td>Walt Disney Productions</td>\n",
       "      <td>RKO Radio Pictures</td>\n",
       "      <td>NaN</td>\n",
       "      <td>...</td>\n",
       "      <td>[November 13, 1940]</td>\n",
       "      <td>NaN</td>\n",
       "      <td>NaN</td>\n",
       "      <td>NaN</td>\n",
       "      <td>NaN</td>\n",
       "      <td>NaN</td>\n",
       "      <td>NaN</td>\n",
       "      <td>NaN</td>\n",
       "      <td>NaN</td>\n",
       "      <td>NaN</td>\n",
       "    </tr>\n",
       "    <tr>\n",
       "      <th>2</th>\n",
       "      <td>Dumbo</td>\n",
       "      <td>[Ben Sharpsteen, Norman Ferguson, Wilfred Jack...</td>\n",
       "      <td>[Joe Grant, Dick Huemer]</td>\n",
       "      <td>[Dumbo, the Flying Elephant, by, Helen Aberson...</td>\n",
       "      <td>Walt Disney</td>\n",
       "      <td>[Edward Brophy, Verna Felton, Cliff Edwards, H...</td>\n",
       "      <td>[Frank Churchill, Oliver Wallace]</td>\n",
       "      <td>Walt Disney Productions</td>\n",
       "      <td>RKO Radio Pictures</td>\n",
       "      <td>[October 23, 1941 (New York City), October 31,...</td>\n",
       "      <td>...</td>\n",
       "      <td>NaN</td>\n",
       "      <td>NaN</td>\n",
       "      <td>NaN</td>\n",
       "      <td>NaN</td>\n",
       "      <td>NaN</td>\n",
       "      <td>NaN</td>\n",
       "      <td>NaN</td>\n",
       "      <td>NaN</td>\n",
       "      <td>NaN</td>\n",
       "      <td>NaN</td>\n",
       "    </tr>\n",
       "    <tr>\n",
       "      <th>3</th>\n",
       "      <td>Bambi</td>\n",
       "      <td>[Supervising director, David Hand, Sequence di...</td>\n",
       "      <td>[Story direction, Perce Pearce, Story adaptati...</td>\n",
       "      <td>[Bambi, a Life in the Woods, by, Felix Salten]</td>\n",
       "      <td>Walt Disney</td>\n",
       "      <td>see below</td>\n",
       "      <td>[Frank Churchill, Edward H. Plumb]</td>\n",
       "      <td>Walt Disney Productions</td>\n",
       "      <td>RKO Radio Pictures</td>\n",
       "      <td>[August 9, 1942 ( London ), August 21, 1942 (U...</td>\n",
       "      <td>...</td>\n",
       "      <td>NaN</td>\n",
       "      <td>NaN</td>\n",
       "      <td>NaN</td>\n",
       "      <td>NaN</td>\n",
       "      <td>NaN</td>\n",
       "      <td>NaN</td>\n",
       "      <td>NaN</td>\n",
       "      <td>NaN</td>\n",
       "      <td>NaN</td>\n",
       "      <td>NaN</td>\n",
       "    </tr>\n",
       "    <tr>\n",
       "      <th>4</th>\n",
       "      <td>Saludos Amigos</td>\n",
       "      <td>[Norman Ferguson, Wilfred Jackson, Jack Kinney...</td>\n",
       "      <td>[Homer Brightman, William Cottrell, Richard Hu...</td>\n",
       "      <td>NaN</td>\n",
       "      <td>Walt Disney</td>\n",
       "      <td>[Lee Blair, Mary Blair, Pinto Colvig, Walt Dis...</td>\n",
       "      <td>[Paul Smith, Edward H. Plumb]</td>\n",
       "      <td>Walt Disney Productions</td>\n",
       "      <td>RKO Radio Pictures</td>\n",
       "      <td>[August 24, 1942 (Rio de Janeiro), February 6,...</td>\n",
       "      <td>...</td>\n",
       "      <td>NaN</td>\n",
       "      <td>[English, Portuguese, Spanish]</td>\n",
       "      <td>NaN</td>\n",
       "      <td>NaN</td>\n",
       "      <td>NaN</td>\n",
       "      <td>NaN</td>\n",
       "      <td>NaN</td>\n",
       "      <td>NaN</td>\n",
       "      <td>NaN</td>\n",
       "      <td>NaN</td>\n",
       "    </tr>\n",
       "  </tbody>\n",
       "</table>\n",
       "<p>5 rows × 32 columns</p>\n",
       "</div>"
      ],
      "text/plain": [
       "            title                                        Directed by  \\\n",
       "0       Pinocchio  [Ben Sharpsteen, Hamilton Luske, Bill Roberts,...   \n",
       "1        Fantasia  [Samuel Armstrong, James Algar, Bill Roberts, ...   \n",
       "2           Dumbo  [Ben Sharpsteen, Norman Ferguson, Wilfred Jack...   \n",
       "3           Bambi  [Supervising director, David Hand, Sequence di...   \n",
       "4  Saludos Amigos  [Norman Ferguson, Wilfred Jackson, Jack Kinney...   \n",
       "\n",
       "                                            Story by  \\\n",
       "0  [Ted Sears, Otto Englander, Webb Smith, Willia...   \n",
       "1                           [Joe Grant, Dick Huemer]   \n",
       "2                           [Joe Grant, Dick Huemer]   \n",
       "3  [Story direction, Perce Pearce, Story adaptati...   \n",
       "4  [Homer Brightman, William Cottrell, Richard Hu...   \n",
       "\n",
       "                                            Based on  \\\n",
       "0   [The Adventures of Pinocchio, by, Carlo Collodi]   \n",
       "1                                                NaN   \n",
       "2  [Dumbo, the Flying Elephant, by, Helen Aberson...   \n",
       "3     [Bambi, a Life in the Woods, by, Felix Salten]   \n",
       "4                                                NaN   \n",
       "\n",
       "                     Produced by  \\\n",
       "0                    Walt Disney   \n",
       "1  [Walt Disney, Ben Sharpsteen]   \n",
       "2                    Walt Disney   \n",
       "3                    Walt Disney   \n",
       "4                    Walt Disney   \n",
       "\n",
       "                                            Starring  \\\n",
       "0  [Cliff Edwards, Dickie Jones, Christian Rub, W...   \n",
       "1                  [Leopold Stokowski, Deems Taylor]   \n",
       "2  [Edward Brophy, Verna Felton, Cliff Edwards, H...   \n",
       "3                                          see below   \n",
       "4  [Lee Blair, Mary Blair, Pinto Colvig, Walt Dis...   \n",
       "\n",
       "                             Music by       Production company  \\\n",
       "0      [Leigh Harline, Paul J. Smith]  Walt Disney Productions   \n",
       "1                         See program  Walt Disney Productions   \n",
       "2   [Frank Churchill, Oliver Wallace]  Walt Disney Productions   \n",
       "3  [Frank Churchill, Edward H. Plumb]  Walt Disney Productions   \n",
       "4       [Paul Smith, Edward H. Plumb]  Walt Disney Productions   \n",
       "\n",
       "       Distributed by                                      Release dates  ...  \\\n",
       "0  RKO Radio Pictures  [February 7, 1940 ( Center Theatre ), February...  ...   \n",
       "1  RKO Radio Pictures                                                NaN  ...   \n",
       "2  RKO Radio Pictures  [October 23, 1941 (New York City), October 31,...  ...   \n",
       "3  RKO Radio Pictures  [August 9, 1942 ( London ), August 21, 1942 (U...  ...   \n",
       "4  RKO Radio Pictures  [August 24, 1942 (Rio de Janeiro), February 6,...  ...   \n",
       "\n",
       "          Release date                       Languages Screenplay by  \\\n",
       "0                  NaN                             NaN           NaN   \n",
       "1  [November 13, 1940]                             NaN           NaN   \n",
       "2                  NaN                             NaN           NaN   \n",
       "3                  NaN                             NaN           NaN   \n",
       "4                  NaN  [English, Portuguese, Spanish]           NaN   \n",
       "\n",
       "  Edited by Written by  Color process  Countries  Production companies  \\\n",
       "0       NaN        NaN            NaN        NaN                   NaN   \n",
       "1       NaN        NaN            NaN        NaN                   NaN   \n",
       "2       NaN        NaN            NaN        NaN                   NaN   \n",
       "3       NaN        NaN            NaN        NaN                   NaN   \n",
       "4       NaN        NaN            NaN        NaN                   NaN   \n",
       "\n",
       "   Adaptation by Layouts by  \n",
       "0            NaN        NaN  \n",
       "1            NaN        NaN  \n",
       "2            NaN        NaN  \n",
       "3            NaN        NaN  \n",
       "4            NaN        NaN  \n",
       "\n",
       "[5 rows x 32 columns]"
      ]
     },
     "execution_count": 107,
     "metadata": {},
     "output_type": "execute_result"
    }
   ],
   "source": [
    "df.head()"
   ]
  },
  {
   "cell_type": "markdown",
   "id": "da0fa644",
   "metadata": {},
   "source": [
    "## Save As CSV File"
   ]
  },
  {
   "cell_type": "code",
   "execution_count": 108,
   "id": "9da6c57f",
   "metadata": {},
   "outputs": [],
   "source": [
    "df.to_csv(\"disney_movie_data_final.csv\")"
   ]
  },
  {
   "cell_type": "code",
   "execution_count": null,
   "id": "2a03ab85",
   "metadata": {},
   "outputs": [],
   "source": []
  },
  {
   "cell_type": "code",
   "execution_count": null,
   "id": "4acf58cf",
   "metadata": {},
   "outputs": [],
   "source": []
  }
 ],
 "metadata": {
  "kernelspec": {
   "display_name": "Python 3 (ipykernel)",
   "language": "python",
   "name": "python3"
  },
  "language_info": {
   "codemirror_mode": {
    "name": "ipython",
    "version": 3
   },
   "file_extension": ".py",
   "mimetype": "text/x-python",
   "name": "python",
   "nbconvert_exporter": "python",
   "pygments_lexer": "ipython3",
   "version": "3.9.13"
  }
 },
 "nbformat": 4,
 "nbformat_minor": 5
}
